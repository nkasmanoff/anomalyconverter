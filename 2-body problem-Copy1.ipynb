{
 "cells": [
  {
   "cell_type": "markdown",
   "metadata": {},
   "source": [
    "Work Done as of Sunday Night:\n",
    "-Still need to fix so that w can be calculated for uninclined orbits, look at homework 6 solutions, this is a prime example so see what formula is used!\n",
    "\n",
    "-Something with dot product being positive or negative, and whether or not to add 2pi to O,w,and/or v. \n",
    "\n"
   ]
  },
  {
   "cell_type": "markdown",
   "metadata": {},
   "source": [
    "Taking Chris's advice, I need to update this code so that it can handle longer inputs depending on the decimal value. Newton's method fails for some level of this, so either want to switch to bi section method, or just add some dumb and over the top condition that influences how many data points I do for Newton's where it corresponds to the desired e of the orbit times the number of sig figs in the anomaly to be converted. "
   ]
  },
  {
   "cell_type": "code",
   "execution_count": null,
   "metadata": {
    "collapsed": true
   },
   "outputs": [],
   "source": [
    "import matplotlib.pyplot as plt\n",
    "import math\n",
    "import numpy as np\n",
    "\n",
    "#including the case of e->1, and letting mean anomaly vary from -180 to 180\n",
    "#like its done in the online sources \n",
    "\n",
    "def E2T(E,e): \n",
    "    if E>360 or E<0:\n",
    "        print(\"Has to be from 0 to 360 degrees!\")\n",
    "    else:\n",
    "        if e<0: \n",
    "            print(\"Sorry, the eccentricity of an orbit is between 0 and 1!\")\n",
    "        elif e==0:\n",
    "            print(\"This is a circular orbit\")\n",
    "            E=np.deg2rad(E)\n",
    "            v=E #true for circular orbits...\n",
    "        elif e>1: \n",
    "            print(\"Sorry, the eccentricity of an orbit is between 0 and 1!\") \n",
    "        elif e==1:\n",
    "            e=0.999999 #approximating 1 to be very close to 1. \n",
    "            E=np.deg2rad(E)\n",
    "            v=2*math.atan(np.sqrt((1+e)/(1-e))*math.tan(E/2)) \n",
    "        else:\n",
    "            E=np.deg2rad(E)\n",
    "            v=2*math.atan(np.sqrt((1+e)/(1-e))*math.tan(E/2))\n",
    "        return np.rad2deg(v)\n",
    "\n",
    "def T2E(v,e):\n",
    "#given v and e, convert to E\n",
    "    if v>180 or v<-180:\n",
    "        print(\"Has to be from -180 to 180 degrees!\")\n",
    "    else:\n",
    "        if e<0: \n",
    "            print(\"Sorry, the eccentricity of an orbit is between 0 and 1!\")\n",
    "        elif e==0:\n",
    "            print(\"This is a circular orbit\")\n",
    "            v=np.deg2rad(v)\n",
    "            E=v\n",
    "            if E<0:\n",
    "                E=E+2*np.pi\n",
    "            return np.rad2deg(E)\n",
    "        elif e>1: \n",
    "            print(\"Sorry, the eccentricity of an orbit is between 0 and 1!\") \n",
    "        elif e==1: \n",
    "            e=0.999999\n",
    "            v=np.deg2rad(v)\n",
    "            E=2*math.atan(np.sqrt((1-e)/(1+e))*math.tan(v/2))\n",
    "            if E<0:\n",
    "                E=E+2*np.pi\n",
    "        else:\n",
    "            v=np.deg2rad(v)\n",
    "            E=2*math.atan(np.sqrt((1-e)/(1+e))*math.tan(v/2))\n",
    "            if E<0:\n",
    "                E=E+2*np.pi\n",
    "        return np.rad2deg(E)\n",
    "\n",
    "def E2M(E,e):\n",
    "#given E and e, convert to mean anomaly M. \n",
    "    if E>360 or E<0:\n",
    "        print(\"Has to be from 0 to 360 degrees!\")\n",
    "    else:\n",
    "        if e<0: \n",
    "            print(\"Sorry, the eccentricity of an orbit is between 0 and 1!\")\n",
    "        elif e==0:\n",
    "            print(\"This is a circular orbit.\")\n",
    "            E=np.deg2rad(E)\n",
    "            v=E\n",
    "        elif e>1: \n",
    "            print(\"Sorry, the eccentricity of an orbit is between 0 and 1!\") \n",
    "        elif e==1: \n",
    "            e=0.999999\n",
    "            E=np.deg2rad(E)\n",
    "            M=E-e*np.sin(E)\n",
    "        else:\n",
    "            E=np.deg2rad(E)\n",
    "            M=E-e*np.sin(E)\n",
    "        return np.rad2deg(M)\n",
    "\n",
    "def M2E(M,e):\n",
    "#given M and e, convert to E\n",
    "    if M>360 or M<0:\n",
    "        print(\"Has to be from 0 to 360 degrees!\")\n",
    "    else:\n",
    "        if e<0: \n",
    "            print(\"Sorry, the eccentricity of an orbit is between 0 and 1!\")\n",
    "        elif e==0:\n",
    "            print(\"This is a circular orbit.\")\n",
    "            M=np.deg2rad(M)\n",
    "            E=M #true for circular orbits...\n",
    "            if E<0:\n",
    "                E=E+2*np.pi\n",
    "            return np.rad2deg(v)\n",
    "        elif e>1: \n",
    "            print(\"Sorry, the eccentricity of an orbit is between 0 and 1!\") \n",
    "        elif e==1:\n",
    "            e=0.999999\n",
    "            M=np.deg2rad(M)\n",
    "    #other conditions about range of M and e, will come in soon \n",
    "    #now to apply newton Method\n",
    "            Eo=M\n",
    "            for i in range(0,1000):\n",
    "                E1=Eo-(Eo-e*np.sin(Eo)-M)/(1-e*np.cos(Eo))\n",
    "                Eo=E1\n",
    "                \n",
    "        else:   \n",
    "            M=np.deg2rad(M)\n",
    "    #other conditions about range of M and e, will come in soon \n",
    "    #now to apply newton Method\n",
    "            Eo=M\n",
    "            for i in range(0,1000):\n",
    "                E1=Eo-(Eo-e*np.sin(Eo)-M)/(1-e*np.cos(Eo))\n",
    "                Eo=E1\n",
    "                \n",
    "        return np.rad2deg(Eo)\n",
    "\n",
    "def T2M(v,e):\n",
    "    if v>180 or v<-180:\n",
    "        print(\"Has to be from -180 to 180 degrees!\")\n",
    "    else:\n",
    "        if e<0: \n",
    "            print(\"Sorry, the eccentricity of an orbit is between 0 and 1!\")\n",
    "        elif e==0:\n",
    "            print(\"This is a circular orbit.\")\n",
    "            v=np.deg2rad(v)\n",
    "            E=v\n",
    "            if E<0:\n",
    "                E=E+2*np.pi\n",
    "            return np.rad2deg(E)\n",
    "        elif e>1: \n",
    "            print(\"Sorry, the eccentricity of an orbit is between 0 and 1!\") \n",
    "        elif e==1:\n",
    "            e=0.999999\n",
    "            E=T2E(v,e)\n",
    "\n",
    "        else:\n",
    "            E=T2E(v,e)\n",
    "        return E2M(E,e)\n",
    "\n",
    "def M2T(M,e):\n",
    "    if M>360 or M<0:\n",
    "        print(\"Has to be from 0 to 360 degrees!\")\n",
    "    else:\n",
    "        if e<0: \n",
    "            print(\"Sorry, the eccentricity of an orbit is between 0 and 1!\")\n",
    "        elif e==0:\n",
    "            print(\"cool, its a circle!\")\n",
    "            M=np.deg2rad(M)\n",
    "            E=M #true for circular orbits...\n",
    "            if E<0:\n",
    "                E=E+2*np.pi\n",
    "            return np.rad2deg(v)\n",
    "        elif e>1: \n",
    "            print(\"Sorry, the eccentricity of an orbit is between 0 and 1!\") \n",
    "        elif e==1:\n",
    "            e=0.99999\n",
    "            E=M2E(M,e)\n",
    "        else:  \n",
    "            E=M2E(M,e)\n",
    "        return E2T(E,e)"
   ]
  },
  {
   "cell_type": "markdown",
   "metadata": {},
   "source": [
    "3. The following program is due in four weeks (with HW #11).\n",
    "\n",
    "\n",
    "Two-Body Problem. Write a two-part computer program that translates i) from orbital elements\n",
    "(a, e, i, Ω, ω, ν) to positions and velocities (x, y, z, vx, vy, vz) and ii) from positions and\n",
    "velocities back to orbital elements. \n",
    "\n",
    "Devise your own algorithms, or use the ones given in Danby,\n",
    "Section 6.15. For Danby’s algorithm, note that Eq. 6.15.4 comes from 6.2.5 and that P is a\n",
    "vector pointing from the mass-occupied focus to pericenter with magnitude e.\n",
    "\n",
    "\n",
    "Basic Program Your program should work for 2D (i = Ω = 0) elliptical orbits, but does not\n",
    "have to handle 3D or unbound (parabolic and hyperbolic) orbits.\n",
    "\n",
    "\n",
    "Extra Credit Your program should work for all 3D bound orbits.\n",
    "\n",
    "\n",
    "More Extra Credit Your program should handle hyperbolic and parabolic orbits as well as\n",
    "elliptical ones.\n",
    "\n",
    "\n",
    "Be thorough in testing your program! Test it by translating (x, y, z, vx, vy, vz) → (a, e, i, Ω, ω, ν) →\n",
    "(x, y, z, vx, vy, vz) and (a, e, i, Ω, ω, ν) → (x, y, z, vx, vy, vz) → (a, e, i, Ω, ω, ν) for a number of\n",
    "cases. This is why it is best to write both subroutines at the same time! \n",
    "\n",
    "Also test your programs\n",
    "against your intuition for a number of special cases (e.g. circular orbits ought to have\n",
    "r ⊥ v). \n",
    "\n",
    "Finally, compare your results with the “Changing the Elements” application in the\n",
    "Working with Orbits section of the Astronomy Workshop. Do this comparison last, as in normal\n",
    "coding situations you usually do not have an already-working example available to you!\n",
    "Even More Extra Credit Can you find any non-trivial errors in the “Changing the Elements”\n",
    "application? Trivial errors include round-off issues, etc."
   ]
  },
  {
   "cell_type": "markdown",
   "metadata": {},
   "source": [
    "Two-Body Problem. Write a two-part computer program that translates i) from orbital elements\n",
    "(a, e, i, Ω, ω, ν) to positions and velocities (x, y, z, vx, vy, vz) and ii) from positions and\n",
    "velocities back to orbital elements. \n",
    "\n",
    "\n",
    "i) create OE2cart(a,e,i,Ω, ω, ν):"
   ]
  },
  {
   "cell_type": "code",
   "execution_count": null,
   "metadata": {
    "collapsed": true
   },
   "outputs": [],
   "source": [
    "def OE2cart(a,e,i,Ω, ω, ν):\n",
    "  #roughly my thought process so far:  \n",
    "    h=sqrt(GMa(1-e^2))\n",
    "    h=rvcosi \n",
    "    r=h^2/GM/(1+ecos(v-w))\n",
    "  #  so magnitude of r is known, and by h magnitude of v is known... now to figure out the components of each...\n",
    "\n",
    "r=rcosvX+rsinvY\n",
    "v=sqrt(GM/p)[-sinvX+(e+cosv)Y]\n",
    "\n",
    "\n",
    "#Need to confirm that in the presence of w it is just that phase shift... \n",
    "#IN 2D\n",
    "\n",
    "#in peri focal \n",
    "rP=rcosv\n",
    "rP=rsinv-w\n",
    "vP=sqrt(GM/p)-sinv-w\n",
    "vQ=sqrt(GM/p)(e+cosv-w)Y\n",
    "\n",
    "#TRANSFORMATION MATRIX FROM PERIFOCAL TO GEOCENTRIC FRAME \n",
    "\n",
    "R=[[1],[1],[1]]\n",
    "\n"
   ]
  },
  {
   "cell_type": "code",
   "execution_count": null,
   "metadata": {
    "collapsed": true
   },
   "outputs": [],
   "source": [
    "def cart2OE(x,y,z,vx,vy,vz)\n",
    "\n",
    "r = [x,y,z]\n",
    "v = [vx,vy,vz]\n",
    "\n",
    "\n",
    "h = cross vector of rxv, \n",
    "\n",
    "magnitude of h is equal to \n",
    "\n",
    "\n",
    "\n",
    "solve for a using v^2= formula\n",
    "plut in with h and solve for e\n",
    "\n",
    "now have a,e, get v and w using formula for r ... or something like that "
   ]
  },
  {
   "cell_type": "code",
   "execution_count": null,
   "metadata": {
    "collapsed": true
   },
   "outputs": [],
   "source": [
    "R=[[R11,R12,R13],[R21,R22,R23],[R31,R32,R33]]\n"
   ]
  },
  {
   "cell_type": "code",
   "execution_count": 12,
   "metadata": {
    "collapsed": true
   },
   "outputs": [],
   "source": [
    "import numpy as np\n",
    "import math as mth"
   ]
  },
  {
   "cell_type": "code",
   "execution_count": 19,
   "metadata": {
    "collapsed": true
   },
   "outputs": [],
   "source": [
    "def norm(x):\n",
    "    xnorm = []\n",
    "    mag = 0\n",
    "    for i in range(len(x)):\n",
    "        mag += x[i]**2    \n",
    "    for j in range(len(x)):\n",
    "        xnorm.append(x[j]/np.sqrt(mag))\n",
    "        \n",
    "    return xnorm\n",
    "\n",
    "def mag(x):\n",
    "    #get the magnitude of a vector\n",
    "    value = 0\n",
    "    for i in range(len(x)):\n",
    "        value += x[i]**2\n",
    "    return np.sqrt(value)\n",
    "\n",
    "def angle(v1, v2):\n",
    "\n",
    "    return mth.acos(np.dot(v1, v2) / (mag(v1) * mag(v2)))"
   ]
  },
  {
   "cell_type": "code",
   "execution_count": 20,
   "metadata": {
    "collapsed": true
   },
   "outputs": [],
   "source": [
    "def OE2cart(a,e,i,O,w,v):\n",
    "    GM=1\n",
    "    p=a*(1-e**2)\n",
    "#start with work in a perifocal coordinate frame... \n",
    "    r=p/(1+e*np.cos(v))\n",
    "    #magnitude of r right here...\n",
    "    #now magnitude of v...\n",
    "#v=sqrt(GM/p)[-sinvX+(e+cosv)Y]\n",
    "\n",
    "    velperifocal=np.sqrt(GM*(2/r-1/a)) \n",
    "    \n",
    "    rP=r*np.cos(v)\n",
    "    rQ=r*np.sin(v)\n",
    "    rperifocal=[[rP],[rQ],[0]]\n",
    "    vP=np.sqrt(GM/p)*(-np.sin(v))\n",
    "    vQ=np.sqrt(GM/p)*(e+np.cos(v))\n",
    "    vperifocal = [[vP],[vQ],[0]]\n",
    "    #obtained from Fundamental of Astrodynamics, using a matrix transformation from perifocal to Cartesion coord systems. \n",
    "    R11=(np.cos(O)*np.cos(w)-np.sin(O)*np.sin(w)*np.sin(i))\n",
    "    R12 = -np.cos(O)*np.sin(w)-np.sin(O)*np.cos(w)*np.cos(i)\n",
    "    R13 = np.sin(O)*np.sin(i)\n",
    "    R21 = np.sin(O)*np.cos(w) + np.cos(O)*np.sin(w)*np.cos(i)\n",
    "    R22 = -np.sin(O)*np.sin(w) + np.cos(O)*np.cos(w)*np.cos(i)\n",
    "    R23 = -np.cos(O)*np.sin(i)\n",
    "    R31 = np.sin(w)*np.sin(i)\n",
    "    R32 = np.cos(w)*np.sin(i)\n",
    "    R33 = np.cos(i)\n",
    "    R=[[R11,R12,R13],[R21,R22,R23],[R31,R32,R33]]\n",
    "     \n",
    "    rcart=[[0],[0],[0]]\n",
    "    vcart=[[0],[0],[0]]\n",
    "    for i in range(len(R)):\n",
    "         for j in range(len(rperifocal[0])):\n",
    "            for k in range(len(rperifocal)):\n",
    "                rcart[i][j] += R[i][k] * rperifocal[k][j]\n",
    "                vcart[i][j] +=R[i][k] *vperifocal[k][j]\n",
    "    print(\"x,y,z,vx,vy,vz\")\n",
    "    return rcart,vcart"
   ]
  },
  {
   "cell_type": "code",
   "execution_count": 21,
   "metadata": {},
   "outputs": [
    {
     "name": "stdout",
     "output_type": "stream",
     "text": [
      "x,y,z,vx,vy,vz\n"
     ]
    },
    {
     "data": {
      "text/plain": [
       "([[1.21], [-2.9636452539365946e-16], [0.0]],\n",
       " [[2.242113800877237e-16], [0.80801767430141724], [0.0]])"
      ]
     },
     "execution_count": 21,
     "metadata": {},
     "output_type": "execute_result"
    }
   ],
   "source": [
    "OE2cart(1,.21,0,0,np.pi,np.pi)"
   ]
  },
  {
   "cell_type": "code",
   "execution_count": 22,
   "metadata": {},
   "outputs": [
    {
     "name": "stdout",
     "output_type": "stream",
     "text": [
      "x,y,z,vx,vy,vz\n"
     ]
    },
    {
     "data": {
      "text/plain": [
       "([[0.79000000000000004], [0.0], [0.0]], [[0.0], [1.2375966910186262], [0.0]])"
      ]
     },
     "execution_count": 22,
     "metadata": {},
     "output_type": "execute_result"
    }
   ],
   "source": [
    "OE2cart(1,.21,0,0,0,0)"
   ]
  },
  {
   "cell_type": "code",
   "execution_count": 100,
   "metadata": {},
   "outputs": [],
   "source": [
    "def cart2OE(x,y,z,vx,vy,vz):\n",
    "    #first the things that will be used later... \n",
    "    GM=1\n",
    "    r=np.array([x,y,z])\n",
    "    rmag = mag(r)\n",
    "    v=np.array([vx,vy,vz])\n",
    "    vmag = mag(v)\n",
    "    h=np.cross(r,v)\n",
    "    I = np.array([1,0,0])  #x axis vector \n",
    "    K = np.array([0,0,1])  #z axis of this setup\n",
    "    n = np.cross(K,h) #node vector, should be zero when uninclined\n",
    "    nmag = mag(n)  #magnitude of node vector, use this to decide if equatorial orbit or not. \n",
    " #   print(\"n \" + str(nmag))\n",
    "    #a\n",
    "    a = 1/((2/rmag)-(vmag**2/GM))\n",
    "    #e\n",
    "    evec=np.cross(v,h)/GM-norm(r) #units in terms of circular velocity!\n",
    "   # print(\"evec \" + str(evec)) \n",
    "#   print(\"normal r \" + str(norm(r)))\n",
    "    e=mag(evec)\n",
    "    #i\n",
    "    hmag = mag(h)\n",
    "    hnorm = norm(h)\n",
    "    i=np.arccos(hnorm[2])  #normalized w z axis, distance btw... seems to pass every test so far!\n",
    "    #O\n",
    "    if nmag>0:\n",
    "        O = np.arccos(np.dot(n,I)/mag(n))\n",
    "    else:\n",
    "        O = 0\n",
    "  #  print(n,I,np.dot(n,I))\n",
    "    if nmag>0:     \n",
    "        if evec[2] <0: \n",
    "            w = np.arccos(np.dot(n,evec)/(mag(evec)*mag(n))) \n",
    "        else: \n",
    "            w  = 2*np.pi + np.arccos(np.dot(n,evec)/(mag(evec)*mag(n)))\n",
    "    else: \n",
    "        if h[2]<0:\n",
    "            w = 2*np.pi - np.arctan2(evec[1],evec[0])  #formula given on wiki, 2D case. \n",
    "            if w < \n",
    "            # w = np.arccos(np.dot(evec,I)/mag(evec))\n",
    "        else:\n",
    "            w = 2*np.pi + np.arctan2(evec[1],evec[0])\n",
    "            if w > 2*np.pi: #just so it doesn't go over domain\n",
    "                w = w-2*np.pi\n",
    "            #w = np.arccos(np.dot(evec,I)/mag(evec))\n",
    "\n",
    "\n",
    "    p = a*(1-e**2)\n",
    "#semi latus rectum, same definition as in other part \n",
    "    sep = 2*np.pi - angle(r,evec)\n",
    "  # if \n",
    "   #     v = np.arccos((1/e)*((p/rmag)-1))\n",
    "    \n",
    "  #  v = np.arccos(np.dot(r,evec)/(mag(evec)*mag(r)))\n",
    "   # print(\"dot product v \" + str(np.dot(r,evec)))\n",
    "    #print(\"angle \" + str(np.rad2deg(angle(r,evec))))\n",
    "    print(\"h = \" + str(h))\n",
    "    print(\"e = \" + str(evec))\n",
    "    print(\"a,e,i,O,w,v\")\n",
    "    return a,e,np.rad2deg(i),np.rad2deg(O),np.rad2deg(w),np.rad2deg(sep)"
   ]
  },
  {
   "cell_type": "code",
   "execution_count": 102,
   "metadata": {},
   "outputs": [
    {
     "name": "stdout",
     "output_type": "stream",
     "text": [
      "h = [ 0.       0.       0.49995]\n",
      "e = [ 0.28058026  0.72779386  0.        ]\n",
      "a,e,i,O,w,v\n"
     ]
    },
    {
     "data": {
      "text/plain": [
       "(0.63829382447118932,\n",
       " 0.78000588421719652,\n",
       " 0.0,\n",
       " 0.0,\n",
       " 68.917270822804639,\n",
       " 185.48232199988269)"
      ]
     },
     "execution_count": 102,
     "metadata": {},
     "output_type": "execute_result"
    }
   ],
   "source": [
    "cart2OE(-.5,-1,0,.3333,-.3333,0)"
   ]
  },
  {
   "cell_type": "markdown",
   "metadata": {},
   "source": [
    "In order to determine what range the true anomaly is in, I'm going to have to figure out what side of the orbit it's in. By this, I mean it is either travelling away from pericenter (arccos is fine) or travelling towards v (arccos + 180) so I need a way to figure out which one it is. One way is to take the dot product between r and pericenter which is e... gonna test this now. \n",
    "\n"
   ]
  },
  {
   "cell_type": "code",
   "execution_count": null,
   "metadata": {},
   "outputs": [],
   "source": [
    "59.879781692586391 -300"
   ]
  },
  {
   "cell_type": "code",
   "execution_count": null,
   "metadata": {
    "collapsed": true
   },
   "outputs": [],
   "source": []
  },
  {
   "cell_type": "code",
   "execution_count": null,
   "metadata": {
    "collapsed": true
   },
   "outputs": [],
   "source": [
    "np.array([1,2,3])"
   ]
  },
  {
   "cell_type": "code",
   "execution_count": null,
   "metadata": {
    "collapsed": true
   },
   "outputs": [],
   "source": [
    "type([1,3,2])"
   ]
  },
  {
   "cell_type": "code",
   "execution_count": null,
   "metadata": {
    "collapsed": true
   },
   "outputs": [],
   "source": [
    "a=np.array([0,0,3])\n",
    "b=np.array([0,0,3])"
   ]
  },
  {
   "cell_type": "code",
   "execution_count": null,
   "metadata": {
    "collapsed": true
   },
   "outputs": [],
   "source": [
    "np.cross(a,b)"
   ]
  },
  {
   "cell_type": "code",
   "execution_count": null,
   "metadata": {
    "collapsed": true
   },
   "outputs": [],
   "source": [
    "b=np.array([1,2,60])"
   ]
  },
  {
   "cell_type": "code",
   "execution_count": null,
   "metadata": {
    "collapsed": true
   },
   "outputs": [],
   "source": [
    "np.linalg.norm(b)"
   ]
  },
  {
   "cell_type": "code",
   "execution_count": null,
   "metadata": {
    "collapsed": true
   },
   "outputs": [],
   "source": [
    "def norm(x):\n",
    "    xnorm = []\n",
    "    mag = 0\n",
    "    for i in range(len(x)):\n",
    "        mag += x[i]**2    \n",
    "    for j in range(len(x)):\n",
    "        xnorm.append(x[j]/np.sqrt(mag))\n",
    "        \n",
    "    return xnorm\n",
    "\n",
    "def mag(x):\n",
    "    #get the magnitude of a vector\n",
    "    value = 0\n",
    "    for i in range(len(x)):\n",
    "        value += x[i]**2\n",
    "    return np.sqrt(value)"
   ]
  },
  {
   "cell_type": "code",
   "execution_count": null,
   "metadata": {
    "collapsed": true
   },
   "outputs": [],
   "source": [
    "b"
   ]
  },
  {
   "cell_type": "code",
   "execution_count": null,
   "metadata": {
    "collapsed": true
   },
   "outputs": [],
   "source": [
    "norm(b)"
   ]
  },
  {
   "cell_type": "code",
   "execution_count": null,
   "metadata": {
    "collapsed": true
   },
   "outputs": [],
   "source": [
    "a = [1,0,0]  #pericenter @ 1 \n",
    "b = [.707,.707,0]"
   ]
  },
  {
   "cell_type": "code",
   "execution_count": null,
   "metadata": {},
   "outputs": [],
   "source": [
    "np.dot(a,b)"
   ]
  },
  {
   "cell_type": "code",
   "execution_count": null,
   "metadata": {
    "collapsed": true
   },
   "outputs": [],
   "source": [
    "np.dot(a,b)"
   ]
  }
 ],
 "metadata": {
  "kernelspec": {
   "display_name": "Python 3",
   "language": "python",
   "name": "python3"
  },
  "language_info": {
   "codemirror_mode": {
    "name": "ipython",
    "version": 3
   },
   "file_extension": ".py",
   "mimetype": "text/x-python",
   "name": "python",
   "nbconvert_exporter": "python",
   "pygments_lexer": "ipython3",
   "version": "3.6.1"
  }
 },
 "nbformat": 4,
 "nbformat_minor": 2
}
