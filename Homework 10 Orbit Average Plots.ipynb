{
 "cells": [
  {
   "cell_type": "markdown",
   "metadata": {},
   "source": [
    "a = [6,10,15,20,25,30]\n",
    "dw = [3.2,6.75,13,20,29,38]\n",
    "dW = [-3.6,-7.75,-14,-21,-28,-33]\n",
    "fitinverse = []\n",
    "for i in range(len(a)):\n",
    "    fitinverse.append(-3.6*(a[i]**1))  #still need to fix, but good start! note n has a dependence as does a, \n",
    "fitinverse"
   ]
  },
  {
   "cell_type": "code",
   "execution_count": null,
   "metadata": {
    "collapsed": true
   },
   "outputs": [],
   "source": [
    "#still correctly follows the trend, but I used the wrong eccentricity. \n",
    "\n",
    "i = [0,10,20,30,40,50,60,70,80,90]\n",
    "dW = [0,1.1,1.05,1,.85,.725,.55,.38,.2,0]\n",
    "dw = [-1.1,-2.2,-1.9,-1.6,-1.1,-.6,-.14,.24,.48,.55]"
   ]
  },
  {
   "cell_type": "code",
   "execution_count": null,
   "metadata": {
    "collapsed": true
   },
   "outputs": [],
   "source": [
    "%matplotlib notebook\n",
    "import matplotlib.pyplot as plt\n",
    "import math\n",
    "import numpy as np\n",
    "from scipy.optimize import curve_fit\n",
    "plt.ioff() "
   ]
  },
  {
   "cell_type": "markdown",
   "metadata": {},
   "source": [
    "1 a) For a planet of e~0.2, a~6, plot <dw/dt> and <dO/dt> as a function of inclination. Include some of the plots from the PSI I used to obtain these orbit averaged values. \n"
   ]
  },
  {
   "cell_type": "markdown",
   "metadata": {},
   "source": [
    "b) slowly relax this into a circular equatorial orbit about the oblate planet, see what happen"
   ]
  },
  {
   "cell_type": "code",
   "execution_count": null,
   "metadata": {
    "scrolled": true
   },
   "outputs": [],
   "source": [
    "plt.plot(i,dw,'o')\n",
    "plt.plot(i,(-1.1*(2-2.5*pow(np.sin(np.deg2rad(i)),2))))"
   ]
  },
  {
   "cell_type": "code",
   "execution_count": null,
   "metadata": {},
   "outputs": [],
   "source": [
    "*np.cos(1.223)"
   ]
  },
  {
   "cell_type": "code",
   "execution_count": null,
   "metadata": {},
   "outputs": [],
   "source": [
    "plt.plot(a,dW)\n",
    "plt.plot(a,fitinverse)"
   ]
  },
  {
   "cell_type": "code",
   "execution_count": null,
   "metadata": {
    "collapsed": true
   },
   "outputs": [],
   "source": [
    "#Question 2\n",
    "\n",
    "\n",
    "a = [6,10,15,25,30]\n",
    "dwbulge = [4.8,.8,.19,.03,.017]\n",
    "dWbulge = [-3,-.5,-.12,-.02,-.015]\n",
    "\n",
    "dwsun = [.8,1.8,3.4,8.5,11]\n",
    "dWsun = [-.921,-2,-3.6,-8,-10]"
   ]
  },
  {
   "cell_type": "code",
   "execution_count": null,
   "metadata": {},
   "outputs": [],
   "source": [
    "dWbulgefit = []\n",
    "loop = np.linspace(1,30,16)\n",
    "for p in range(len(loop)):\n",
    "    dWbulgefit.append(-2/(loop[p]**3.5))"
   ]
  },
  {
   "cell_type": "code",
   "execution_count": null,
   "metadata": {},
   "outputs": [],
   "source": [
    "plt.plot(a,dWbulge,label='dWbulge')\n",
    "\n",
    "plt.legend()\n",
    "plt.show()\n",
    "#plt.plot(a,dwbulge,label='dwbulge')\n",
    "#plt.plot(a,dWsun,label='dWsun')\n",
    "#plt.plot(a,dwsun,label='dwsun')\n",
    "#np.polyfit(a,dWbulge,2)"
   ]
  },
  {
   "cell_type": "code",
   "execution_count": null,
   "metadata": {
    "collapsed": true
   },
   "outputs": [],
   "source": [
    " def func(x, ao, b):\n",
    "        return ao*(x**b)   "
   ]
  },
  {
   "cell_type": "code",
   "execution_count": null,
   "metadata": {
    "collapsed": true
   },
   "outputs": [],
   "source": [
    "popt, pcov = curve_fit(func, a, dwbulge)"
   ]
  },
  {
   "cell_type": "code",
   "execution_count": null,
   "metadata": {},
   "outputs": [],
   "source": [
    "pcov"
   ]
  },
  {
   "cell_type": "code",
   "execution_count": null,
   "metadata": {},
   "outputs": [],
   "source": [
    "plt.figure()\n",
    "plt.plot(a,dwbulge,label='dwbulge')\n",
    "plt.show()"
   ]
  },
  {
   "cell_type": "code",
   "execution_count": null,
   "metadata": {
    "collapsed": true
   },
   "outputs": [],
   "source": []
  }
 ],
 "metadata": {
  "kernelspec": {
   "display_name": "Python 3",
   "language": "python",
   "name": "python3"
  },
  "language_info": {
   "codemirror_mode": {
    "name": "ipython",
    "version": 3
   },
   "file_extension": ".py",
   "mimetype": "text/x-python",
   "name": "python",
   "nbconvert_exporter": "python",
   "pygments_lexer": "ipython3",
   "version": "3.6.1"
  }
 },
 "nbformat": 4,
 "nbformat_minor": 2
}
