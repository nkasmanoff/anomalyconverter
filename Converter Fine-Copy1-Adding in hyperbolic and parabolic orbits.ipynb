{
 "cells": [
  {
   "cell_type": "markdown",
   "metadata": {},
   "source": [
    "Next up: Add cases for circular, parabolic, and hyperbolic orbits. Check Danby, there is a new formula for r(v) etc.\n"
   ]
  },
  {
   "cell_type": "markdown",
   "metadata": {},
   "source": [
    "Taking Chris's advice, I need to update this code so that it can handle longer inputs depending on the decimal value. Newton's method fails for some level of this, so either want to switch to bi section method, or just add some dumb and over the top condition that influences how many data points I do for Newton's where it corresponds to the desired e of the orbit times the number of sig figs in the anomaly to be converted. "
   ]
  },
  {
   "cell_type": "code",
   "execution_count": 1,
   "metadata": {
    "collapsed": true
   },
   "outputs": [],
   "source": [
    "import numpy as np\n",
    "import math as mth"
   ]
  },
  {
   "cell_type": "code",
   "execution_count": 2,
   "metadata": {
    "collapsed": true
   },
   "outputs": [],
   "source": [
    "def length(v):\n",
    "    return mth.sqrt(np.dot(v, v))\n",
    "\n",
    "def angle(v1, v2):\n",
    "\n",
    "    return mth.acos(np.dot(v1, v2) / (length(v1) * length(v2)))\n",
    "\n",
    "def normalize(x):\n",
    "    xnorm = []\n",
    "    mag = 0\n",
    "    for i in range(len(x)):\n",
    "        mag += x[i]**2    \n",
    "    for j in range(len(x)):\n",
    "        xnorm.append(x[j]/np.sqrt(mag))\n",
    "        \n",
    "    return xnorm"
   ]
  },
  {
   "cell_type": "code",
   "execution_count": 16,
   "metadata": {
    "collapsed": true
   },
   "outputs": [],
   "source": [
    "def OE2cart(a,e,i,O,w,v):\n",
    "    #first to put it in terms of radians...\n",
    "    i = np.deg2rad(i)    \n",
    "    O = np.deg2rad(O)\n",
    "    w = np.deg2rad(w)            \n",
    "    v = np.deg2rad(v)\n",
    "    \n",
    "    \n",
    "    GM=1\n",
    "    if e<1:\n",
    "        p=a*(1-e**2)\n",
    "#start with work in a perifocal coordinate frame... \n",
    "        r=p/(1+e*np.cos(v))\n",
    "    #magnitude of r right here...\n",
    "    #now magnitude of v...\n",
    "#v=sqrt(GM/p)[-sinvX+(e+cosv)Y]\n",
    "\n",
    "        velperifocal=np.sqrt(GM*(2/r-1/a)) \n",
    "    \n",
    "        rP=r*np.cos(v)\n",
    "        rQ=r*np.sin(v)\n",
    "        rperifocal=[[rP],[rQ],[0]]\n",
    "        vP=np.sqrt(GM/p)*(-np.sin(v))\n",
    "        vQ=np.sqrt(GM/p)*(e+np.cos(v))\n",
    "        vperifocal = [[vP],[vQ],[0]]\n",
    "    #obtained from Fundamental of Astrodynamics, using a matrix transformation from perifocal to Cartesion coord systems. \n",
    "        R11=(np.cos(O)*np.cos(w)-np.sin(O)*np.sin(w)*np.sin(i))\n",
    "        R12 = -np.cos(O)*np.sin(w)-np.sin(O)*np.cos(w)*np.cos(i)\n",
    "        R13 = np.sin(O)*np.sin(i)\n",
    "        R21 = np.sin(O)*np.cos(w) + np.cos(O)*np.sin(w)*np.cos(i)\n",
    "        R22 = -np.sin(O)*np.sin(w) + np.cos(O)*np.cos(w)*np.cos(i)\n",
    "        R23 = -np.cos(O)*np.sin(i)\n",
    "        R31 = np.sin(w)*np.sin(i)\n",
    "        R32 = np.cos(w)*np.sin(i)\n",
    "        R33 = np.cos(i)\n",
    "        R=[[R11,R12,R13],[R21,R22,R23],[R31,R32,R33]]\n",
    "     \n",
    "        rcart=[[0],[0],[0]]\n",
    "        vcart=[[0],[0],[0]]\n",
    "        for i in range(len(R)):\n",
    "             for j in range(len(rperifocal[0])):\n",
    "                for k in range(len(rperifocal)):\n",
    "                    rcart[i][j] += R[i][k] * rperifocal[k][j]\n",
    "                    vcart[i][j] +=R[i][k] *vperifocal[k][j]\n",
    "    else:\n",
    "        print(\"testing the hyperbolic/parabolic section\")\n",
    "        p=a*(1-e**2)\n",
    "        print(\"p = \" + str(p))\n",
    "      #  r=p/(-1+e*np.cos(v))\n",
    "        r=p/(1+e*np.cos(v))\n",
    "        \n",
    "        print(\"r = \" + str(r))\n",
    "        velperifocal=np.sqrt(GM*(2/r-1/a)) \n",
    "    \n",
    "        rP=r*np.cos(v)\n",
    "        rQ=r*np.sin(v)\n",
    "        rperifocal=[[rP],[rQ],[0]]\n",
    "        vP=np.sqrt(GM/p)*(-np.sin(v))\n",
    "        vQ=np.sqrt(GM/p)*(e+np.cos(v))\n",
    "        vperifocal = [[vP],[vQ],[0]]\n",
    "    #obtained from Fundamental of Astrodynamics, using a matrix transformation from perifocal to Cartesion coord systems. \n",
    "        R11=(np.cos(O)*np.cos(w)-np.sin(O)*np.sin(w)*np.sin(i))\n",
    "        R12 = -np.cos(O)*np.sin(w)-np.sin(O)*np.cos(w)*np.cos(i)\n",
    "        R13 = np.sin(O)*np.sin(i)\n",
    "        R21 = np.sin(O)*np.cos(w) + np.cos(O)*np.sin(w)*np.cos(i)\n",
    "        R22 = -np.sin(O)*np.sin(w) + np.cos(O)*np.cos(w)*np.cos(i)\n",
    "        R23 = -np.cos(O)*np.sin(i)\n",
    "        R31 = np.sin(w)*np.sin(i)\n",
    "        R32 = np.cos(w)*np.sin(i)\n",
    "        R33 = np.cos(i)\n",
    "        R=[[R11,R12,R13],[R21,R22,R23],[R31,R32,R33]]\n",
    "     \n",
    "        rcart=[[0],[0],[0]]\n",
    "        vcart=[[0],[0],[0]]\n",
    "        for i in range(len(R)):\n",
    "             for j in range(len(rperifocal[0])):\n",
    "                for k in range(len(rperifocal)):\n",
    "                    rcart[i][j] += R[i][k] * rperifocal[k][j]\n",
    "                    vcart[i][j] +=R[i][k] *vperifocal[k][j]\n",
    "    print(\"x,y,z,vx,vy,vz\")\n",
    "    return rcart,vcart"
   ]
  },
  {
   "cell_type": "code",
   "execution_count": 20,
   "metadata": {},
   "outputs": [
    {
     "name": "stdout",
     "output_type": "stream",
     "text": [
      "testing the hyperbolic/parabolic section\n",
      "p = 0\n",
      "r = 0.0\n"
     ]
    },
    {
     "name": "stderr",
     "output_type": "stream",
     "text": [
      "/Users/noahkasmanoff/anaconda/lib/python3.6/site-packages/ipykernel/__main__.py:53: RuntimeWarning: divide by zero encountered in double_scalars\n"
     ]
    },
    {
     "ename": "ZeroDivisionError",
     "evalue": "division by zero",
     "output_type": "error",
     "traceback": [
      "\u001b[0;31m---------------------------------------------------------------------------\u001b[0m",
      "\u001b[0;31mZeroDivisionError\u001b[0m                         Traceback (most recent call last)",
      "\u001b[0;32m<ipython-input-20-79c07b407a39>\u001b[0m in \u001b[0;36m<module>\u001b[0;34m()\u001b[0m\n\u001b[0;32m----> 1\u001b[0;31m \u001b[0mOE2cart\u001b[0m\u001b[0;34m(\u001b[0m\u001b[0;36m1\u001b[0m\u001b[0;34m,\u001b[0m\u001b[0;36m1\u001b[0m\u001b[0;34m,\u001b[0m\u001b[0;36m0\u001b[0m\u001b[0;34m,\u001b[0m\u001b[0;36m0\u001b[0m\u001b[0;34m,\u001b[0m\u001b[0;36m0\u001b[0m\u001b[0;34m,\u001b[0m\u001b[0;36m0\u001b[0m\u001b[0;34m)\u001b[0m\u001b[0;34m\u001b[0m\u001b[0m\n\u001b[0m",
      "\u001b[0;32m<ipython-input-16-d26bb9ecde87>\u001b[0m in \u001b[0;36mOE2cart\u001b[0;34m(a, e, i, O, w, v)\u001b[0m\n\u001b[1;32m     56\u001b[0m         \u001b[0mrQ\u001b[0m\u001b[0;34m=\u001b[0m\u001b[0mr\u001b[0m\u001b[0;34m*\u001b[0m\u001b[0mnp\u001b[0m\u001b[0;34m.\u001b[0m\u001b[0msin\u001b[0m\u001b[0;34m(\u001b[0m\u001b[0mv\u001b[0m\u001b[0;34m)\u001b[0m\u001b[0;34m\u001b[0m\u001b[0m\n\u001b[1;32m     57\u001b[0m         \u001b[0mrperifocal\u001b[0m\u001b[0;34m=\u001b[0m\u001b[0;34m[\u001b[0m\u001b[0;34m[\u001b[0m\u001b[0mrP\u001b[0m\u001b[0;34m]\u001b[0m\u001b[0;34m,\u001b[0m\u001b[0;34m[\u001b[0m\u001b[0mrQ\u001b[0m\u001b[0;34m]\u001b[0m\u001b[0;34m,\u001b[0m\u001b[0;34m[\u001b[0m\u001b[0;36m0\u001b[0m\u001b[0;34m]\u001b[0m\u001b[0;34m]\u001b[0m\u001b[0;34m\u001b[0m\u001b[0m\n\u001b[0;32m---> 58\u001b[0;31m         \u001b[0mvP\u001b[0m\u001b[0;34m=\u001b[0m\u001b[0mnp\u001b[0m\u001b[0;34m.\u001b[0m\u001b[0msqrt\u001b[0m\u001b[0;34m(\u001b[0m\u001b[0mGM\u001b[0m\u001b[0;34m/\u001b[0m\u001b[0mp\u001b[0m\u001b[0;34m)\u001b[0m\u001b[0;34m*\u001b[0m\u001b[0;34m(\u001b[0m\u001b[0;34m-\u001b[0m\u001b[0mnp\u001b[0m\u001b[0;34m.\u001b[0m\u001b[0msin\u001b[0m\u001b[0;34m(\u001b[0m\u001b[0mv\u001b[0m\u001b[0;34m)\u001b[0m\u001b[0;34m)\u001b[0m\u001b[0;34m\u001b[0m\u001b[0m\n\u001b[0m\u001b[1;32m     59\u001b[0m         \u001b[0mvQ\u001b[0m\u001b[0;34m=\u001b[0m\u001b[0mnp\u001b[0m\u001b[0;34m.\u001b[0m\u001b[0msqrt\u001b[0m\u001b[0;34m(\u001b[0m\u001b[0mGM\u001b[0m\u001b[0;34m/\u001b[0m\u001b[0mp\u001b[0m\u001b[0;34m)\u001b[0m\u001b[0;34m*\u001b[0m\u001b[0;34m(\u001b[0m\u001b[0me\u001b[0m\u001b[0;34m+\u001b[0m\u001b[0mnp\u001b[0m\u001b[0;34m.\u001b[0m\u001b[0mcos\u001b[0m\u001b[0;34m(\u001b[0m\u001b[0mv\u001b[0m\u001b[0;34m)\u001b[0m\u001b[0;34m)\u001b[0m\u001b[0;34m\u001b[0m\u001b[0m\n\u001b[1;32m     60\u001b[0m         \u001b[0mvperifocal\u001b[0m \u001b[0;34m=\u001b[0m \u001b[0;34m[\u001b[0m\u001b[0;34m[\u001b[0m\u001b[0mvP\u001b[0m\u001b[0;34m]\u001b[0m\u001b[0;34m,\u001b[0m\u001b[0;34m[\u001b[0m\u001b[0mvQ\u001b[0m\u001b[0;34m]\u001b[0m\u001b[0;34m,\u001b[0m\u001b[0;34m[\u001b[0m\u001b[0;36m0\u001b[0m\u001b[0;34m]\u001b[0m\u001b[0;34m]\u001b[0m\u001b[0;34m\u001b[0m\u001b[0m\n",
      "\u001b[0;31mZeroDivisionError\u001b[0m: division by zero"
     ]
    }
   ],
   "source": [
    "OE2cart(1,1,0,0,0,0)"
   ]
  },
  {
   "cell_type": "code",
   "execution_count": 21,
   "metadata": {
    "collapsed": true
   },
   "outputs": [],
   "source": [
    "def cart2OE(x,y,z,vx,vy,vz):\n",
    "    #first the things that will be used later... \n",
    "    GM=1\n",
    "    r=np.array([x,y,z])\n",
    "    rmag = length(r)\n",
    "    v=np.array([vx,vy,vz])\n",
    "    vmag = length(v)\n",
    "    h=np.cross(r,v)\n",
    "    I = np.array([1,0,0])  #x axis vector \n",
    "    K = np.array([0,0,1])  #z axis of this setup\n",
    "    n = np.cross(K,h) #node vector, should be zero when uninclined\n",
    "    nmag = length(n)  #magnitude of node vector, use this to decide if equatorial orbit or not. \n",
    "    #a\n",
    "    a = 1/((2/rmag)-(vmag**2/GM))\n",
    "    #e\n",
    "    evec=np.cross(v,h)/GM-normalize(r) \n",
    "    e=length(evec)\n",
    "    #i\n",
    "    hmag = length(h)\n",
    "    hnorm = normalize(h)\n",
    "    i=np.arccos(hnorm[2])  #normalized w z axis, distance btw... seems to pass every test so far!\n",
    "    #O\n",
    "    if i>0 and i<np.pi:\n",
    "        if n[1]>=0:\n",
    "            O = np.arccos(np.dot(n,I)/length(n))\n",
    "        elif n[1]<0:\n",
    "            O = 2*np.pi - np.arccos(np.dot(n,I)/length(n))\n",
    "    else:\n",
    "        O = 0\n",
    "    #w\n",
    "    if i > 0 and i < np.pi: \n",
    "        if evec[2]>=0:\n",
    "            w = np.arccos(np.dot(n,evec)/(length(evec)*length(n)))\n",
    "        elif evec[2]<0:\n",
    "            w = 2*np.pi - np.arccos(np.dot(n,evec)/(length(evec)*length(n)))\n",
    "    else:\n",
    "        if h[2]>=0:\n",
    "            w = 2*np.pi + np.arctan2(evec[1],evec[0])\n",
    "            if w >= 2*np.pi:\n",
    "                w = w - 2*np.pi\n",
    "        else: \n",
    "            w = 2*np.pi - np.arctan2(evec[1],evec[0])\n",
    "            if w >=2*np.pi:\n",
    "                w = w - 2*np.pi\n",
    "    #v\n",
    "    if np.dot(r,v)>0:\n",
    "        v = np.arccos(np.dot(evec,r)/(length(evec)*length(r)))\n",
    "    elif np.dot(r,v)<0:\n",
    "        v = 2*np.pi - np.arccos(np.dot(I,r)/(length(I)*length(r)))\n",
    "    \n",
    "  #  print(\"h = \" + str(h))\n",
    "    return a,e,np.rad2deg(i),np.rad2deg(O),np.rad2deg(w),np.rad2deg(v)"
   ]
  },
  {
   "cell_type": "code",
   "execution_count": 22,
   "metadata": {
    "collapsed": true
   },
   "outputs": [],
   "source": [
    "aa,ee,ii,OO,ww,vv = cart2OE(-.1,8,0,.471,-4.23,0)"
   ]
  },
  {
   "cell_type": "code",
   "execution_count": 23,
   "metadata": {},
   "outputs": [
    {
     "name": "stdout",
     "output_type": "stream",
     "text": [
      "testing the hyperbolic/parabolic section\n",
      "p = 11.189024999999996\n",
      "r = 13.597980999\n",
      "x,y,z,vx,vy,vz\n"
     ]
    },
    {
     "data": {
      "text/plain": [
       "([[-0.72197837570406254], [13.578800921793361], [-1.662923508513337e-15]],\n",
       " [[0.4706016761297841], [-4.2178638254351792], [5.165393433058602e-16]])"
      ]
     },
     "execution_count": 23,
     "metadata": {},
     "output_type": "execute_result"
    }
   ],
   "source": [
    "OE2cart(aa,ee,ii,OO,ww,vv)"
   ]
  },
  {
   "cell_type": "code",
   "execution_count": null,
   "metadata": {
    "collapsed": true
   },
   "outputs": [],
   "source": []
  }
 ],
 "metadata": {
  "kernelspec": {
   "display_name": "Python 3",
   "language": "python",
   "name": "python3"
  },
  "language_info": {
   "codemirror_mode": {
    "name": "ipython",
    "version": 3
   },
   "file_extension": ".py",
   "mimetype": "text/x-python",
   "name": "python",
   "nbconvert_exporter": "python",
   "pygments_lexer": "ipython3",
   "version": "3.6.1"
  }
 },
 "nbformat": 4,
 "nbformat_minor": 2
}
