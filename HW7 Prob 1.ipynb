{
 "cells": [
  {
   "cell_type": "code",
   "execution_count": 1,
   "metadata": {
    "collapsed": true
   },
   "outputs": [],
   "source": [
    "import numpy as np"
   ]
  },
  {
   "cell_type": "code",
   "execution_count": 2,
   "metadata": {},
   "outputs": [],
   "source": [
    "#comparison of hmagnitude for Saturn and Jupiter\n",
    "\n",
    "#h=sqrt(mu*a*(a-e^^2)), but assuming circular obits, so e is zero, and mu is GM\n",
    "\n",
    "msun=1.9981e30\n",
    "mjupiter=1.898e27/msun\n",
    "msaturn=5.683e26/msun\n",
    "msun=msun/msun\n",
    "ejupiter=0.0484\n",
    "esaturn=0.0555 \n",
    "ajupiter=5.2102 #AU\n",
    "asaturn=9.5380 #AU\n",
    "\n",
    "\n",
    "def h(a,e):  #program that returns the non-normalized specific angular momentum, multiply all \n",
    "    #the hx,hy,hz components to obtain full description\n",
    "    return np.sqrt(a*(1-(e**2)))\n",
    "\n",
    "\n",
    "hjupiter=h(ajupiter,ejupiter)\n",
    "hsaturn=h(asaturn,esaturn)\n"
   ]
  },
  {
   "cell_type": "markdown",
   "metadata": {},
   "source": [
    "Using what we know about centers of mass, we can also prove that the Sun does not contribute significantly to the invariant plane.\n",
    "\n",
    "If we consider the sun at the origin, the center of mass between Jupiter and the Sun will be located at (in AU):\n"
   ]
  },
  {
   "cell_type": "code",
   "execution_count": 3,
   "metadata": {},
   "outputs": [
    {
     "name": "stdout",
     "output_type": "stream",
     "text": [
      "0.0703170302593\n"
     ]
    }
   ],
   "source": [
    "\n",
    "rcm=(msun*0+mjupiter*ajupiter)/(mjupiter+msun)  \n",
    "#basically how far the Sun will be from the CM due to Jupiter, and Saturn's will be even less!\n",
    "\n",
    "print(h(rcm,0))"
   ]
  },
  {
   "cell_type": "markdown",
   "metadata": {},
   "source": [
    "So by assuming that in the Sun-Jupiter system the Sun orbits around the common center of mass in a circular orbit, this is the strongest possible contribution that the Sun could contribute towards the angular momentum. Calculating this value we obtain a value of 0.0703, which is over 32 times smaller than the contributions due to Jupiter's orbit, so it is safe to neglect this for the rest of the question."
   ]
  },
  {
   "cell_type": "code",
   "execution_count": 4,
   "metadata": {},
   "outputs": [],
   "source": [
    "\n",
    "\n",
    "\n",
    "\n",
    "\n",
    "iJ=np.deg2rad(1.3032)\n",
    "oJ=np.deg2rad(100.4644)  #using values from Danby Appendix C \n",
    "hxJ=np.sin(oJ)*np.sin(iJ)*hjupiter  #this is currently a unit vector, so multiply by the magnitude solved for above\n",
    "hyJ=-np.cos(oJ)*np.sin(iJ)*hjupiter\n",
    "hzJ=np.cos(iJ)*hjupiter\n",
    "\n",
    "LxJ=hxJ*mjupiter\n",
    "LyJ=hyJ*mjupiter\n",
    "LzJ=hzJ*mjupiter\n",
    "#Saturn\n",
    "iS=np.deg2rad(2.4888)\n",
    "oS=np.deg2rad(113.6655)  #using values from Danby Appendix C \n",
    "hxS=np.sin(oS)*np.sin(iS)*hsaturn\n",
    "hyS=-np.cos(oS)*np.sin(iS)*hsaturn\n",
    "hzS=np.cos(iS)*hsaturn\n",
    "\n",
    "LxS=hxS*msaturn\n",
    "LyS=hyS*msaturn\n",
    "LzS=hzS*msaturn\n"
   ]
  },
  {
   "cell_type": "code",
   "execution_count": 5,
   "metadata": {
    "collapsed": true
   },
   "outputs": [],
   "source": [
    "\n",
    "\n",
    "Lx=LxJ+LxS\n",
    "Ly=LyJ+LyS\n",
    "Lz=LzJ+LzS\n"
   ]
  },
  {
   "cell_type": "code",
   "execution_count": 6,
   "metadata": {},
   "outputs": [
    {
     "name": "stdout",
     "output_type": "stream",
     "text": [
      "0.2994204425711275\n"
     ]
    }
   ],
   "source": [
    "print(msaturn/mjupiter)"
   ]
  },
  {
   "cell_type": "code",
   "execution_count": 7,
   "metadata": {},
   "outputs": [
    {
     "name": "stdout",
     "output_type": "stream",
     "text": [
      "before normalizing, L is equal to 0.00304258272648\n"
     ]
    }
   ],
   "source": [
    "L=np.sqrt(pow(Lx,2)+pow(Ly,2)+pow(Lz,2))\n",
    "print(\"before normalizing, L is equal to \" + str(L))"
   ]
  },
  {
   "cell_type": "code",
   "execution_count": 8,
   "metadata": {},
   "outputs": [
    {
     "name": "stdout",
     "output_type": "stream",
     "text": [
      "1.0\n"
     ]
    }
   ],
   "source": [
    "#now to normalize. \n",
    "Lx=Lx/L\n",
    "Ly=Ly/L\n",
    "Lz=Lz/L\n",
    "\n",
    "L=np.sqrt(pow(Lx,2)+pow(Ly,2)+pow(Lz,2))\n",
    "print(L)"
   ]
  },
  {
   "cell_type": "code",
   "execution_count": 9,
   "metadata": {},
   "outputs": [
    {
     "name": "stdout",
     "output_type": "stream",
     "text": [
      "inclination = 1.63421249707 degrees\n"
     ]
    }
   ],
   "source": [
    "#solving for inclination\n",
    "i=np.arccos(Lz)\n",
    "print(\"inclination = \" +str(np.rad2deg(i)) + \" degrees\")"
   ]
  },
  {
   "cell_type": "code",
   "execution_count": 10,
   "metadata": {},
   "outputs": [
    {
     "name": "stdout",
     "output_type": "stream",
     "text": [
      "omega = 106.217094977 degrees\n"
     ]
    }
   ],
   "source": [
    "#solving for omega, there are multiple equations to do this! All give the answer below: \n",
    "np.rad2deg(np.arcsin(Lx/np.sin(i)))-180    #gives a weird answer, explained below\n",
    "np.rad2deg(np.arccos(-Ly/np.sin(i)))  #gives answer\n",
    "omega=np.rad2deg(np.arctan2(Lx,-Ly))  #gives answer\n",
    "print(\"omega = \" +str(omega) + \" degrees\")"
   ]
  },
  {
   "attachments": {},
   "cell_type": "markdown",
   "metadata": {},
   "source": [
    "Due to the properties of feeding arcsin a positive number, it will always return a positive number (provided it is within the acceptable range). Because of this, using the equation hx=sin(i)sin(omega) will produce the -omega+180, once adjusted \n",
    "\n",
    "\n",
    "\n",
    "Comparing with the answers for the inclination and longitude of the ascending node in the textbook, these values are very close!"
   ]
  },
  {
   "cell_type": "code",
   "execution_count": 11,
   "metadata": {},
   "outputs": [
    {
     "name": "stdout",
     "output_type": "stream",
     "text": [
      "1.03213420868\n",
      "0.992683130622\n"
     ]
    }
   ],
   "source": [
    "#According to section 9.1,\n",
    "\n",
    "iactual=1+35/60\n",
    "omegaactual=107\n",
    "\n",
    "#So jupiter and saturn make up for \n",
    "\n",
    "print(np.rad2deg(i)/iactual)\n",
    "print(omega/omegaactual)\n",
    "\n"
   ]
  },
  {
   "cell_type": "markdown",
   "metadata": {},
   "source": [
    "Or nearly all the eccentricity, and the same goes for the longitude of the ascending node are due to the contributions of Jupiter and Saturn."
   ]
  },
  {
   "cell_type": "code",
   "execution_count": null,
   "metadata": {
    "collapsed": true
   },
   "outputs": [],
   "source": []
  }
 ],
 "metadata": {
  "kernelspec": {
   "display_name": "Python 3",
   "language": "python",
   "name": "python3"
  },
  "language_info": {
   "codemirror_mode": {
    "name": "ipython",
    "version": 3
   },
   "file_extension": ".py",
   "mimetype": "text/x-python",
   "name": "python",
   "nbconvert_exporter": "python",
   "pygments_lexer": "ipython3",
   "version": "3.6.1"
  }
 },
 "nbformat": 4,
 "nbformat_minor": 2
}
