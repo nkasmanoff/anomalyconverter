{
 "cells": [
  {
   "cell_type": "markdown",
   "metadata": {},
   "source": [
    "Next up: Add cases for circular, parabolic, and hyperbolic orbits. Check Danby, there is a new formula for r(v) etc.\n"
   ]
  },
  {
   "cell_type": "code",
   "execution_count": 23,
   "metadata": {
    "collapsed": true
   },
   "outputs": [],
   "source": [
    "import numpy as np\n",
    "import math as mth"
   ]
  },
  {
   "cell_type": "code",
   "execution_count": 24,
   "metadata": {
    "collapsed": true
   },
   "outputs": [],
   "source": [
    "def length(v):\n",
    "    return mth.sqrt(np.dot(v, v))\n",
    "\n",
    "def angle(v1, v2):\n",
    "\n",
    "    return mth.acos(np.dot(v1, v2) / (length(v1) * length(v2)))\n",
    "\n",
    "def normalize(x):\n",
    "    xnorm = []\n",
    "    mag = 0\n",
    "    for i in range(len(x)):\n",
    "        mag += x[i]**2    \n",
    "    for j in range(len(x)):\n",
    "        xnorm.append(x[j]/np.sqrt(mag))\n",
    "        \n",
    "    return xnorm"
   ]
  },
  {
   "cell_type": "code",
   "execution_count": 75,
   "metadata": {},
   "outputs": [],
   "source": [
    "def cart2OE(x,y,z,vx,vy,vz):\n",
    "    #first the things that will be used later... \n",
    "    GM=1\n",
    "    r=np.array([x,y,z])\n",
    "    rmag = length(r)\n",
    "    print(rmag)\n",
    "\n",
    "    v=np.array([vx,vy,vz])\n",
    "    vmag = length(v)\n",
    "    h=np.cross(r,v)\n",
    "    I = np.array([1,0,0])  #x axis vector \n",
    "    K = np.array([0,0,1])  #z axis of this setup\n",
    "    n = np.cross(K,h) #node vector, should be zero when uninclined\n",
    "    if length(n)==0:\n",
    "        n=I\n",
    "    nmag = length(n)  #magnitude of node vector, use this to decide if equatorial orbit or not. \n",
    "    #a\n",
    "    a = 1/((2/rmag)-((vmag**2)/GM))\n",
    "    #e\n",
    "    evec=np.cross(v,h)/GM-normalize(r) \n",
    "    e=length(evec)\n",
    "    #i\n",
    "    hmag = length(h)\n",
    "    hnorm = normalize(h)\n",
    "    if z==0 and vz==0:\n",
    "        i=0\n",
    "    else:\n",
    "        i=np.arccos(hnorm[2])  #normalized w z axis, distance btw... seems to pass every test so far!\n",
    "    #O\n",
    "    if i>0 and i<np.pi:\n",
    "        if n[1]>=0:\n",
    "            O = np.arccos(np.dot(n,I)/length(n))\n",
    "        elif n[1]<0:\n",
    "            O = 2*np.pi - np.arccos(np.dot(n,I)/length(n))\n",
    "    else:\n",
    "        O = 0\n",
    "    #w\n",
    "    if e==0:\n",
    "        w=0\n",
    "    else:\n",
    "        if i > 0 and i < np.pi: \n",
    "            if evec[2]>=0:\n",
    "                w = np.arccos(np.dot(n,evec)/(length(evec)*length(n)))\n",
    "            elif evec[2]<0:\n",
    "                w = 2*np.pi - np.arccos(np.dot(n,evec)/(length(evec)*length(n)))\n",
    "        #elif i==np.pi/2:\n",
    "        \n",
    "        else:\n",
    "            if h[2]>=0:\n",
    "                w = 2*np.pi + np.arctan2(evec[1],evec[0])\n",
    "                if w >= 2*np.pi:\n",
    "                    w = w - 2*np.pi\n",
    "            else: \n",
    "                w = 2*np.pi - np.arctan2(evec[1],evec[0])\n",
    "                if w >=2*np.pi:\n",
    "                    w = w - 2*np.pi\n",
    "    #v\n",
    "    if np.dot(r,v)>0:\n",
    "        true = np.arccos(np.dot(evec,r)/(length(evec)*length(r)))\n",
    "    elif np.dot(r,v)<0:\n",
    "        true = 2*np.pi - np.arccos(np.dot(evec,r)/(length(evec)*length(r)))\n",
    "    elif np.dot(r,v)==0:\n",
    "        true = np.arccos(np.dot(I,r)/length(r))\n",
    "  #  print(\"h = \" + str(h))\n",
    "    print(\"a \" + str(a))\n",
    "    print(\"e \" + str(e))\n",
    "    print(\"i \" + str(i))\n",
    "    print(\"O \" + str(O))\n",
    "    print(\"w \" + str(w))\n",
    "    print(\"T \" + str(true))\n",
    "    return a , e , np.rad2deg(i) , np.rad2deg(O), np.rad2deg(w) , np.rad2deg(true) "
   ]
  },
  {
   "cell_type": "code",
   "execution_count": 76,
   "metadata": {},
   "outputs": [],
   "source": [
    "def OE2cart(a,e,i,O,w,v):\n",
    "    #first to put it in terms of radians...\n",
    "    i = np.deg2rad(i)    \n",
    "    O = np.deg2rad(O)\n",
    "    w = np.deg2rad(w)            \n",
    "    v = np.deg2rad(v)\n",
    "    if a==0: \n",
    "        print(\"Error! a can't be zero.\")\n",
    "        return\n",
    "    if e>=1 and a>0: \n",
    "        print(\"Error! For e>1, a must be negative. \")\n",
    "        return \n",
    "    if e<1 and a<0: \n",
    "        print(\"Error! For 0<=e<1, a must be positive. \")\n",
    "        return\n",
    "    if e<0: \n",
    "        print(\"Error! e cannot be negative.\")\n",
    "        return \n",
    "    if i>np.pi or i<0: \n",
    "        print(\"Error! The inclination must be bewtween 0 and 180 degrees\")\n",
    "        return \n",
    "    if O<-np.pi or O>2*np.pi: \n",
    "        print(\"Error! The Longitude of the Ascending Node must be between -180 and 360 degrees. \")\n",
    "        return\n",
    "    if w<-np.pi or w>2*np.pi: \n",
    "        print(\"Eror! The Argument of Pericenter must be between -180 and 360 degrees. \")\n",
    "        return\n",
    "    \n",
    "    if e<1 and v<-np.pi or v>2*np.pi:\n",
    "        print(\"Error! For Elliptical Orbits, the True Anomaly must be between -180 and 360 degrees. \")\n",
    "    if e>1:\n",
    "       #define restricted range of here based on e... then make sure it is less than that! \n",
    "        if abs(v)>(180-np.rad2deg(np.arccos(1/e))):\n",
    "            print(\"Error! For your chosen Eccentricity (e=\" + str(e) + \"), the True Anomaly is restricted to the range: \" + str(-(180-np.rad2deg(np.arccos(1/e)))) + \" < v < \" + str((180-np.rad2deg(np.arccos(1/e)))) + \".\")  \n",
    "            return\n",
    "\n",
    "    GM=1\n",
    "    p=a*(1-e**2)\n",
    "#start with work in a perifocal coordinate frame... \n",
    "    r=p/(1+e*np.cos(v))\n",
    "    #magnitude of r right here...\n",
    "    #now magnitude of v...\n",
    "#v=sqrt(GM/p)[-sinvX+(e+cosv)Y]\n",
    "\n",
    "    vperifocal=np.sqrt(GM*((2/r)-(1/a))) \n",
    "    \n",
    "    rP=r*np.cos(v)\n",
    "    rQ=r*np.sin(v)\n",
    "    rperifocal=[[rP],[rQ],[0]]\n",
    "    vP=np.sqrt(GM/p)*(-np.sin(v))\n",
    "    vQ=np.sqrt(GM/p)*(e+np.cos(v))\n",
    "    vperifocal = [[vP],[vQ],[0]]\n",
    "    #obtained from Fundamental of Astrodynamics, using a matrix transformation from perifocal to Cartesion coord systems. \n",
    "    R11=(np.cos(O)*np.cos(w)-np.sin(O)*np.sin(w)*np.sin(i))\n",
    "    R12 = -np.cos(O)*np.sin(w)-np.sin(O)*np.cos(w)*np.cos(i)\n",
    "    R13 = np.sin(O)*np.sin(i)\n",
    "    R21 = np.sin(O)*np.cos(w) + np.cos(O)*np.sin(w)*np.cos(i)\n",
    "    R22 = -np.sin(O)*np.sin(w) + np.cos(O)*np.cos(w)*np.cos(i)\n",
    "    R23 = -np.cos(O)*np.sin(i)\n",
    "    R31 = np.sin(w)*np.sin(i)\n",
    "    R32 = np.cos(w)*np.sin(i)\n",
    "    R33 = np.cos(i)\n",
    "    R=[[R11,R12,R13],[R21,R22,R23],[R31,R32,R33]]\n",
    "     \n",
    "    rcart=[[0],[0],[0]]\n",
    "    vcart=[[0],[0],[0]]\n",
    "    for i in range(len(R)):\n",
    "         for j in range(len(rperifocal[0])):\n",
    "            for k in range(len(rperifocal)):\n",
    "                rcart[i][j] += R[i][k] * rperifocal[k][j]\n",
    "                vcart[i][j] +=R[i][k] *vperifocal[k][j]\n",
    "    print(\"x,y,z,vx,vy,vz\")\n",
    "    return rcart[0][0],rcart[1][0],rcart[2][0],vcart[0][0],vcart[1][0],vcart[2][0]"
   ]
  },
  {
   "cell_type": "markdown",
   "metadata": {},
   "source": [
    "This is my testing ground... easy cut and paste of one set of variable into the other, and see if the desired result is recovered after going through both of the functions. "
   ]
  },
  {
   "cell_type": "code",
   "execution_count": 84,
   "metadata": {
    "scrolled": false
   },
   "outputs": [
    {
     "name": "stdout",
     "output_type": "stream",
     "text": [
      "1.9\n",
      "a 19.00000000000002\n",
      "e 0.8999999999999999\n",
      "i 1.57079632679\n",
      "O 3.14159265359\n",
      "w 3.14159265359\n",
      "T 0.0\n"
     ]
    }
   ],
   "source": [
    "aa,ee,ii,OO,ww,TT = cart2OE(1.9,0,0,0,0,-1)"
   ]
  },
  {
   "cell_type": "code",
   "execution_count": 85,
   "metadata": {},
   "outputs": [
    {
     "name": "stdout",
     "output_type": "stream",
     "text": [
      "x,y,z,vx,vy,vz\n"
     ]
    },
    {
     "data": {
      "text/plain": [
       "(1.9000000000000039,\n",
       " -2.3268289183799758e-16,\n",
       " 2.3268289183799758e-16,\n",
       " 1.2246467991473517e-16,\n",
       " 6.1232339957367574e-17,\n",
       " -0.99999999999999889)"
      ]
     },
     "execution_count": 85,
     "metadata": {},
     "output_type": "execute_result"
    }
   ],
   "source": [
    "OE2cart     (aa,ee,ii,OO,ww,TT)"
   ]
  },
  {
   "cell_type": "code",
   "execution_count": 86,
   "metadata": {},
   "outputs": [
    {
     "name": "stdout",
     "output_type": "stream",
     "text": [
      "x,y,z,vx,vy,vz\n"
     ]
    }
   ],
   "source": [
    "xx, yy, zz, vxx, vyy, vzz = OE2cart(-1,1.5,75,284,18,75)"
   ]
  },
  {
   "cell_type": "code",
   "execution_count": 87,
   "metadata": {},
   "outputs": [
    {
     "name": "stdout",
     "output_type": "stream",
     "text": [
      "0.9134553637343277\n",
      "a -0.9362849802227154\n",
      "e 1.6023874416851407\n",
      "i 1.25648031017\n",
      "O 5.1411658619\n",
      "w 0.369893431326\n",
      "T 1.18240443589\n"
     ]
    },
    {
     "data": {
      "text/plain": [
       "(-0.9362849802227154,\n",
       " 1.6023874416851407,\n",
       " 71.991018814206782,\n",
       " 294.56710566337892,\n",
       " 21.193332484610959,\n",
       " 67.746783854084413)"
      ]
     },
     "execution_count": 87,
     "metadata": {},
     "output_type": "execute_result"
    }
   ],
   "source": [
    "cart2OE(xx, yy, zz, vxx, vyy, vzz)"
   ]
  },
  {
   "cell_type": "markdown",
   "metadata": {},
   "source": [
    "This one gets close, but no cigar!"
   ]
  },
  {
   "cell_type": "code",
   "execution_count": null,
   "metadata": {
    "collapsed": true
   },
   "outputs": [],
   "source": []
  }
 ],
 "metadata": {
  "kernelspec": {
   "display_name": "Python 3",
   "language": "python",
   "name": "python3"
  },
  "language_info": {
   "codemirror_mode": {
    "name": "ipython",
    "version": 3
   },
   "file_extension": ".py",
   "mimetype": "text/x-python",
   "name": "python",
   "nbconvert_exporter": "python",
   "pygments_lexer": "ipython3",
   "version": "3.6.1"
  }
 },
 "nbformat": 4,
 "nbformat_minor": 2
}
