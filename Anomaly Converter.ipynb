{
 "cells": [
  {
   "cell_type": "markdown",
   "metadata": {},
   "source": [
    " In your favorite computer language, write subroutines to translate\n",
    "between the mean anomaly M, the eccentric anomaly E, and the true anomaly ν for elliptic\n",
    "orbits. "
   ]
  },
  {
   "cell_type": "code",
   "execution_count": 2,
   "metadata": {
    "collapsed": true
   },
   "outputs": [],
   "source": [
    "import math\n",
    "import numpy as np"
   ]
  },
  {
   "cell_type": "code",
   "execution_count": 42,
   "metadata": {
    "collapsed": true
   },
   "outputs": [],
   "source": [
    "def E2T(E,e): \n",
    "    if E>360 or E<0:\n",
    "        print(\"Has to be from 0 to 360 degrees!\")\n",
    "    else:\n",
    "        if e<0: \n",
    "            print(\"Sorry, the eccentricity of an orbit is between [0,1)!\")\n",
    "        elif e==0:\n",
    "            print(\"cool, its a circle!\")\n",
    "            E=np.deg2rad(E)\n",
    "            v=E #true for circular orbits...\n",
    "            if v<0:\n",
    "                v=v+np.pi\n",
    "            return np.rad2deg(v)\n",
    "        elif e>=1: \n",
    "            print(\"Sorry, the eccentricity of an orbit is between [0,1)!\") \n",
    "        else:\n",
    "            E=np.deg2rad(E)\n",
    "            v=2*math.atan(np.sqrt((1+e)/(1-e))*math.tan(E/2))\n",
    "            if v<0:\n",
    "                v=v+2*np.pi\n",
    "            return np.rad2deg(v)"
   ]
  },
  {
   "cell_type": "code",
   "execution_count": 43,
   "metadata": {
    "collapsed": true
   },
   "outputs": [],
   "source": [
    "def T2E(v,e):\n",
    "#given v and e, convert to E\n",
    "    if v>360 or v<0:\n",
    "        print(\"Has to be from 0 to 360 degrees!\")\n",
    "    else:\n",
    "        if e<0: \n",
    "            print(\"Sorry, the eccentricity of an orbit is between [0,1)!\")\n",
    "        elif e==0:\n",
    "            print(\"cool, its a circle!\")\n",
    "            v=np.deg2rad(v)\n",
    "            E=v\n",
    "            if E<0:\n",
    "                E=E+np.pi\n",
    "            return np.rad2deg(E)\n",
    "        elif e>=1: \n",
    "            print(\"Sorry, the eccentricity of an orbit is between [0,1)!\") \n",
    "        else:\n",
    "            v=np.deg2rad(v)\n",
    "            E=2*math.atan(np.sqrt((1-e)/(1+e))*math.tan(v/2))\n",
    "            if E<0:\n",
    "                E=E+2*np.pi\n",
    "            return np.rad2deg(E)"
   ]
  },
  {
   "cell_type": "code",
   "execution_count": 44,
   "metadata": {
    "collapsed": true
   },
   "outputs": [],
   "source": [
    "def E2M(E,e):\n",
    "#given E and e, convert to mean anomaly M. \n",
    "    if E>360 or E<0:\n",
    "        print(\"Has to be from 0 to 360 degrees!\")\n",
    "    else:\n",
    "        if e<0: \n",
    "            print(\"Sorry, the eccentricity of an orbit is between [0,1)!\")\n",
    "        elif e==0:\n",
    "            print(\"cool, its a circle!\")\n",
    "            E=np.deg2rad(E)\n",
    "            v=E\n",
    "            if v<0:\n",
    "                v=v+2*np.pi\n",
    "            return np.rad2deg(E)\n",
    "        elif e>=1: \n",
    "            print(\"Sorry, the eccentricity of an orbit is between [0,1)!\") \n",
    "        else:\n",
    "            E=np.deg2rad(E)\n",
    "            M=E-e*np.sin(E)\n",
    "            return np.rad2deg(M)"
   ]
  },
  {
   "cell_type": "code",
   "execution_count": 45,
   "metadata": {
    "collapsed": true
   },
   "outputs": [],
   "source": [
    "def M2E(M,e):\n",
    "#given M and e, convert to E\n",
    "    if M>360 or M<0:\n",
    "        print(\"Has to be from 0 to 360 degrees!\")\n",
    "    else:\n",
    "        if e<0: \n",
    "            print(\"Sorry, the eccentricity of an orbit is between [0,1)!\")\n",
    "        elif e==0:\n",
    "            print(\"cool, its a circle!\")\n",
    "            M=np.deg2rad(M)\n",
    "            E=M #true for circular orbits...\n",
    "            if E<0:\n",
    "                E=E+2*np.pi\n",
    "            return np.rad2deg(v)\n",
    "        elif e>=1: \n",
    "            print(\"Sorry, the eccentricity of an orbit is between [0,1)!\") \n",
    "        else:   \n",
    "            M=np.deg2rad(M)\n",
    "    #other conditions about range of M and e, will come in soon \n",
    "    #now to apply newton Method\n",
    "            Eo=M\n",
    "            for i in range(0,100):\n",
    "                E1=Eo-(Eo-e*np.sin(Eo)-M)/(1-np.cos(Eo))\n",
    "                Eo=E1\n",
    "                \n",
    "            return np.rad2deg(Eo)"
   ]
  },
  {
   "cell_type": "code",
   "execution_count": 46,
   "metadata": {
    "collapsed": true
   },
   "outputs": [],
   "source": [
    "def T2M(v,e):\n",
    "    if v>360 or v<0:\n",
    "        print(\"Has to be from 0 to 360 degrees!\")\n",
    "    else:\n",
    "        if e<0: \n",
    "            print(\"Sorry, the eccentricity of an orbit is between [0,1)!\")\n",
    "        elif e==0:\n",
    "            print(\"cool, its a circle!\")\n",
    "            v=np.deg2rad(v)\n",
    "            E=v\n",
    "            if E<0:\n",
    "                E=E+2*np.pi\n",
    "            return np.rad2deg(E)\n",
    "        elif e>=1: \n",
    "            print(\"Sorry, the eccentricity of an orbit is between [0,1)!\") \n",
    "        else:\n",
    "            E=T2E(v,e)\n",
    "            return E2M(E,e)"
   ]
  },
  {
   "cell_type": "code",
   "execution_count": 47,
   "metadata": {
    "collapsed": true
   },
   "outputs": [],
   "source": [
    "def M2T(M,e):\n",
    "    if M>360 or M<0:\n",
    "        print(\"Has to be from 0 to 360 degrees!\")\n",
    "    else:\n",
    "        if e<0: \n",
    "            print(\"Sorry, the eccentricity of an orbit is between [0,1)!\")\n",
    "        elif e==0:\n",
    "            print(\"cool, its a circle!\")\n",
    "            M=np.deg2rad(M)\n",
    "            E=M #true for circular orbits...\n",
    "            if E<0:\n",
    "                E=E+2*np.pi\n",
    "            return np.rad2deg(v)\n",
    "        elif e>=1: \n",
    "            print(\"Sorry, the eccentricity of an orbit is between [0,1)!\") \n",
    "        else:  \n",
    "            E=M2E(M,e)\n",
    "            return E2T(E,e)"
   ]
  },
  {
   "cell_type": "markdown",
   "metadata": {},
   "source": [
    "Find E and ν given M = π/2, e = 0.8. \n",
    "\n",
    "\n"
   ]
  },
  {
   "cell_type": "code",
   "execution_count": 30,
   "metadata": {},
   "outputs": [
    {
     "name": "stdout",
     "output_type": "stream",
     "text": [
      "For M=pi/2 and e=0.8, E=126.734288506and v=161.020350736\n"
     ]
    }
   ],
   "source": [
    "print(\"For M=pi/2 and e=0.8, E=\" + str(M2E(90,.8)) +\"and v=\" +str(M2T(90,.8)))"
   ]
  },
  {
   "cell_type": "markdown",
   "metadata": {},
   "source": [
    "Write down an inequality relating the three\n",
    "anomalies over the pericenter to apocenter half of the orbit. How does this change for the\n",
    "apocenter to pericenter half?\n",
    "\n",
    "\n",
    "-Starting at pericenter, the body is moving at its maximum velocity. Because of this, the true anomaly will be the greatest value, followed by eccentric anomaly then mean anomaly. \n",
    "\n",
    "T>E>M\n",
    "\n",
    "-From apocenter the body is starting at its slowest velocity, so now mean velocity is the greates value followed by eccentric to true anomaly. \n",
    "\n",
    "M>E>T"
   ]
  },
  {
   "cell_type": "code",
   "execution_count": 50,
   "metadata": {},
   "outputs": [
    {
     "name": "stdout",
     "output_type": "stream",
     "text": [
      "300 314.079209848 326.427231281\n"
     ]
    }
   ],
   "source": [
    "T=300\n",
    "print(T,T2E(T,.3),T2M(T,.3))"
   ]
  },
  {
   "cell_type": "code",
   "execution_count": 34,
   "metadata": {},
   "outputs": [
    {
     "data": {
      "text/plain": [
       "180.0"
      ]
     },
     "execution_count": 34,
     "metadata": {},
     "output_type": "execute_result"
    }
   ],
   "source": [
    "T2M(180,.3)"
   ]
  },
  {
   "cell_type": "code",
   "execution_count": 53,
   "metadata": {},
   "outputs": [
    {
     "data": {
      "text/plain": [
       "271.36018243209764"
      ]
     },
     "execution_count": 53,
     "metadata": {},
     "output_type": "execute_result"
    }
   ],
   "source": [
    "M2E(300,.5)"
   ]
  },
  {
   "cell_type": "markdown",
   "metadata": {},
   "source": [
    "Please turn in 1) a listing of your code, 2) a transcript of a\n",
    "rigorous series of tests that you subjected it to, and 3) a version of the code that will run on the\n",
    "department computers. Talk to me if you are unsure of what computer language to use."
   ]
  },
  {
   "cell_type": "code",
   "execution_count": 59,
   "metadata": {},
   "outputs": [
    {
     "data": {
      "text/plain": [
       "191.18961252270395"
      ]
     },
     "execution_count": 59,
     "metadata": {},
     "output_type": "execute_result"
    }
   ],
   "source": [
    "E2M(188,.4)"
   ]
  },
  {
   "cell_type": "code",
   "execution_count": null,
   "metadata": {
    "collapsed": true
   },
   "outputs": [],
   "source": []
  }
 ],
 "metadata": {
  "kernelspec": {
   "display_name": "Python 3",
   "language": "python",
   "name": "python3"
  },
  "language_info": {
   "codemirror_mode": {
    "name": "ipython",
    "version": 3
   },
   "file_extension": ".py",
   "mimetype": "text/x-python",
   "name": "python",
   "nbconvert_exporter": "python",
   "pygments_lexer": "ipython3",
   "version": "3.6.1"
  }
 },
 "nbformat": 4,
 "nbformat_minor": 2
}
