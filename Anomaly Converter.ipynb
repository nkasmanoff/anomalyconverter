{
 "cells": [
  {
   "cell_type": "markdown",
   "metadata": {},
   "source": [
    " In your favorite computer language, write subroutines to translate\n",
    "between the mean anomaly M, the eccentric anomaly E, and the true anomaly ν for elliptic\n",
    "orbits. Find E and ν given M = π/2, e = 0.8. Write down an inequality relating the three\n",
    "anomalies over the pericenter to apocenter half of the orbit. How does this change for the\n",
    "apocenter to pericenter half? Please turn in 1) a listing of your code, 2) a transcript of a\n",
    "rigorous series of tests that you subjected it to, and 3) a version of the code that will run on the\n",
    "department computers. Talk to me if you are unsure of what computer language to use."
   ]
  },
  {
   "cell_type": "code",
   "execution_count": 8,
   "metadata": {
    "collapsed": true
   },
   "outputs": [],
   "source": [
    "import math\n",
    "import numpy as np"
   ]
  },
  {
   "cell_type": "markdown",
   "metadata": {},
   "source": [
    "eccentric anomaly to mean anomaly:\n",
    " \n",
    " M=E-esin E\n",
    " \n",
    " true anomaly to eccentric anomaly and vice vera:\n",
    " \n",
    "tan(v/2)=sqrt(1+e/1-e)tan(E/2)"
   ]
  },
  {
   "cell_type": "code",
   "execution_count": 43,
   "metadata": {},
   "outputs": [],
   "source": [
    "def true2eccentric(v,e):\n",
    "#given v and e, convert to E\n",
    "    if e<0: \n",
    "        print(\"Sorry, the eccentricity of an orbit is between [0,1)!\")\n",
    "    elif e==0:\n",
    "        print(\"cool, its a circle!\")\n",
    "        v=np.deg2rad(v)\n",
    "        E=v\n",
    "        if E<0:\n",
    "            E=E+np.pi\n",
    "        return np.rad2deg(E)\n",
    "    elif e>=1: \n",
    "        print(\"Sorry, the eccentricity of an orbit is between [0,1)!\") \n",
    "    else:\n",
    "        v=np.deg2rad(v)\n",
    "        E=2*math.atan(np.sqrt((1-e)/(1+e))*math.tan(v/2))\n",
    "        if E<0:\n",
    "            E=E+np.pi\n",
    "        return np.rad2deg(E)"
   ]
  },
  {
   "cell_type": "code",
   "execution_count": 49,
   "metadata": {},
   "outputs": [
    {
     "data": {
      "text/plain": [
       "0.0022417615873378"
      ]
     },
     "execution_count": 49,
     "metadata": {},
     "output_type": "execute_result"
    }
   ],
   "source": [
    "true2eccentric(10,.9999999)"
   ]
  },
  {
   "cell_type": "code",
   "execution_count": 31,
   "metadata": {},
   "outputs": [
    {
     "data": {
      "text/plain": [
       "78.463040967184511"
      ]
     },
     "execution_count": 31,
     "metadata": {},
     "output_type": "execute_result"
    }
   ],
   "source": [
    "eccentrictomean(3)"
   ]
  },
  {
   "cell_type": "code",
   "execution_count": 33,
   "metadata": {},
   "outputs": [],
   "source": [
    "def eccentrictomean(E,e):\n",
    "#given E and e, convert to mean anomaly M. \n",
    "    E=np.deg2rad(E)\n",
    "    M=E-e*np.sin(E)\n",
    "    return np.rad2deg(M)"
   ]
  },
  {
   "cell_type": "code",
   "execution_count": 3,
   "metadata": {},
   "outputs": [
    {
     "ename": "SyntaxError",
     "evalue": "unexpected EOF while parsing (<ipython-input-3-6d069a9adf41>, line 1)",
     "output_type": "error",
     "traceback": [
      "\u001b[0;36m  File \u001b[0;32m\"<ipython-input-3-6d069a9adf41>\"\u001b[0;36m, line \u001b[0;32m1\u001b[0m\n\u001b[0;31m    def meantoeccentric(M,e):\u001b[0m\n\u001b[0m                             ^\u001b[0m\n\u001b[0;31mSyntaxError\u001b[0m\u001b[0;31m:\u001b[0m unexpected EOF while parsing\n"
     ]
    }
   ],
   "source": [
    "def meantoeccentric(M,e):\n",
    "#given M and e, convert to E"
   ]
  },
  {
   "cell_type": "code",
   "execution_count": 4,
   "metadata": {},
   "outputs": [
    {
     "ename": "SyntaxError",
     "evalue": "unexpected EOF while parsing (<ipython-input-4-64d448acb6cf>, line 2)",
     "output_type": "error",
     "traceback": [
      "\u001b[0;36m  File \u001b[0;32m\"<ipython-input-4-64d448acb6cf>\"\u001b[0;36m, line \u001b[0;32m2\u001b[0m\n\u001b[0;31m    #fiven M and e, convert to v\u001b[0m\n\u001b[0m                                ^\u001b[0m\n\u001b[0;31mSyntaxError\u001b[0m\u001b[0;31m:\u001b[0m unexpected EOF while parsing\n"
     ]
    }
   ],
   "source": [
    "def meantotrue(M,e):\n",
    "#given M and e, convert to v"
   ]
  },
  {
   "cell_type": "code",
   "execution_count": null,
   "metadata": {
    "collapsed": true
   },
   "outputs": [],
   "source": [
    "def true2mean(v,e):\n",
    "#given v, convert to M"
   ]
  }
 ],
 "metadata": {
  "kernelspec": {
   "display_name": "Python 3",
   "language": "python",
   "name": "python3"
  },
  "language_info": {
   "codemirror_mode": {
    "name": "ipython",
    "version": 3
   },
   "file_extension": ".py",
   "mimetype": "text/x-python",
   "name": "python",
   "nbconvert_exporter": "python",
   "pygments_lexer": "ipython3",
   "version": "3.6.1"
  }
 },
 "nbformat": 4,
 "nbformat_minor": 2
}
